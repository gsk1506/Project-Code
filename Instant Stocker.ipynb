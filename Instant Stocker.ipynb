{
 "cells": [
  {
   "cell_type": "code",
   "execution_count": 26,
   "metadata": {},
   "outputs": [
    {
     "name": "stdout",
     "output_type": "stream",
     "text": [
      "Welcome to Instant Stocker.\n",
      " \n",
      "We will help you determine the best company to invest your money\n",
      " \n"
     ]
    }
   ],
   "source": [
    "print(\"Welcome to Instant Stocker.\")\n",
    "print(\" \")\n",
    "print(\"We will help you determine the best company to invest your money\")\n",
    "print(\" \")"
   ]
  },
  {
   "cell_type": "code",
   "execution_count": 30,
   "metadata": {},
   "outputs": [],
   "source": [
    "# Defining a function for determinig the maximum profit possible \n",
    "\n",
    "def maxProfit(p, start, end):\n",
    " \n",
    "    # Initialising profit to zero\n",
    "    profit = 0;\n",
    " \n",
    "    # buying day\n",
    "    for i in range(start, end, 1):\n",
    " \n",
    "        # selling day\n",
    "        for j in range(i+1, end+1):\n",
    " \n",
    "            # If byuing the stock at ith day and selling it at jth day is profitable\n",
    "            if (p[j] > p[i]):\n",
    "                 \n",
    "                # Updating current profit and maximum profit\n",
    "                curr_profit = p[j] - p[i] +\\\n",
    "                            maxProfit(p, start, i - 1)+ \\\n",
    "                            maxProfit(p, j + 1, end);\n",
    "\n",
    "                profit = max(profit, curr_profit);\n",
    " \n",
    "    return profit;"
   ]
  },
  {
   "cell_type": "code",
   "execution_count": 31,
   "metadata": {},
   "outputs": [],
   "source": [
    "Companies = []\n",
    "maxProfit_list = []"
   ]
  },
  {
   "cell_type": "code",
   "execution_count": 32,
   "metadata": {},
   "outputs": [
    {
     "name": "stdout",
     "output_type": "stream",
     "text": [
      "First company's name: Company X\n",
      "Enter stock value as per day average: 2 4 3 5 4 5 3 4\n",
      "Dividend per year: 365\n",
      "**********\n",
      "Second company's name: Company Y\n",
      "Enter stock value as per day average: 6.5 6.75 5.98 6 6.25 6.48 7 7.2\n",
      "Dividend per year: 365\n",
      "**********\n",
      "Third company's name: Company Z\n",
      "Enter stock value as per day average: 4.2 4.5 4.7 5.2 4.15 5.4 4.94 4.5\n",
      "Dividend per year: 360\n",
      "**********\n",
      "The company with the maximum profit: Company X\n",
      "**********\n"
     ]
    }
   ],
   "source": [
    "# Company A\n",
    "company_A = input(\"First company's name: \")\n",
    "Companies.append(company_A)\n",
    "\n",
    "    # value of stocks in per day average\n",
    "strvalue_A = input(\"Enter stock value as per day average: \").split() # enter '8' values for example\n",
    "value_A=[]\n",
    "    # conveting string values into float\n",
    "for i in strvalue_A:\n",
    "    i=float(i)\n",
    "    value_A.append(i)\n",
    "\n",
    "n_A = len(value_A)\n",
    "\n",
    "    # dividend data\n",
    "dividend_A = float(input(\"Dividend per year: \"))\n",
    "dividend_per_list_A = ((dividend_A)/365)*(n_A)\n",
    "\n",
    "    # Company A's maximum profit possible for given data\n",
    "maxProfit_A = maxProfit(value_A, 0, n_A - 1) + dividend_per_list_A\n",
    "maxProfit_list.append(maxProfit_A)\n",
    "\n",
    "    # average value of stock A for the given number of days\n",
    "avg_A = sum(value_A)/n_A\n",
    "\n",
    "print(\"*\"*10)\n",
    "\n",
    "# Company B\n",
    "company_B = input(\"Second company's name: \")\n",
    "Companies.append(company_B)\n",
    "\n",
    "    # value of stocks in per day average\n",
    "strvalue_B = input(\"Enter stock value as per day average: \").split() # enter '8' values for example\n",
    "value_B=[]\n",
    "    # conveting string values into float\n",
    "for i in strvalue_B:\n",
    "    i=float(i)\n",
    "    value_B.append(i)\n",
    "    \n",
    "n_B = len(value_B)\n",
    "\n",
    "    # dividend data\n",
    "dividend_B = int(input(\"Dividend per year: \"))\n",
    "dividend_perlist_B = ((dividend_B)/365)*(n_B)\n",
    "\n",
    "    # Company A's maximum profit possible for given data\n",
    "maxProfit_B = maxProfit(value_B, 0, n_B - 1) + dividend_perlist_B\n",
    "maxProfit_list.append(maxProfit_B)\n",
    "\n",
    "    # average value of stock A for the given number of days\n",
    "avg_B = sum(value_B)/n_B\n",
    "\n",
    "print(\"*\"*10)\n",
    "\n",
    "# Company C\n",
    "company_C = input(\"Third company's name: \")\n",
    "Companies.append(company_C)\n",
    "\n",
    "    # value of stocks in per day average\n",
    "strvalue_C = input(\"Enter stock value as per day average: \").split() # enter '8' values for example\n",
    "value_C=[]\n",
    "    # conveting string values into float\n",
    "for i in strvalue_C:\n",
    "    i=float(i)\n",
    "    value_C.append(i)\n",
    "\n",
    "n_C = len(value_C)\n",
    "\n",
    "    # dividend data\n",
    "dividend_C = float(input(\"Dividend per year: \"))\n",
    "dividend_per_list_C = ((dividend_C)/365)*(n_C)\n",
    "\n",
    "    # Company A's maximum profit possible for given data\n",
    "maxProfit_C = maxProfit(value_C, 0, n_C - 1) + dividend_per_list_C\n",
    "maxProfit_list.append(maxProfit_C)\n",
    "\n",
    "    # average value of stock A for the given number of days\n",
    "avg_C = sum(value_C)/n_C\n",
    "\n",
    "print(\"*\"*10)\n",
    "\n",
    "# Finding company with the maximum profit\n",
    "d={}\n",
    "t=0\n",
    "for i in Companies:\n",
    "    d[i]=maxProfit_list[t]\n",
    "    t=t+1\n",
    "\n",
    "for i in d:\n",
    "    if d[i]==max(maxProfit_list):\n",
    "        Comp_with_maxProfit=i\n",
    "        break\n",
    "\n",
    "\n",
    "print(\"The company with the maximum profit: \" + Comp_with_maxProfit)\n",
    "print(\"*\"*10)"
   ]
  },
  {
   "cell_type": "code",
   "execution_count": 33,
   "metadata": {},
   "outputs": [
    {
     "data": {
      "image/png": "[encoded data removed]",
      "text/plain": [
       "<Figure size 432x288 with 1 Axes>"
      ]
     },
     "metadata": {
      "needs_background": "light"
     },
     "output_type": "display_data"
    }
   ],
   "source": [
    "# Plotting a Histogram\n",
    "\n",
    "import matplotlib.pyplot as plt\n",
    "\n",
    " # importing NumPy library\n",
    "import numpy as np\n",
    "\n",
    " # 'tuple' containing names of all comapnies\n",
    "comp = (company_A, company_B, company_C)\n",
    "\n",
    " # y-coordinates\n",
    "y = np.arange(len(comp))\n",
    "com = maxProfit_list\n",
    "plt.bar(y, com, align='center', color='pink')\n",
    "plt.xticks(y, comp)\n",
    "plt.ylabel('Stock Values')\n",
    "plt.title('Histogram')\n",
    "plt.show();"
   ]
  },
  {
   "cell_type": "code",
   "execution_count": 34,
   "metadata": {},
   "outputs": [],
   "source": [
    "# Function for inding best buying and selling days\n",
    "def stock_buy_sell(p, n):\n",
    "    i = 0\n",
    "    while (i < (n - 1)):\n",
    "         \n",
    "        # Finding the local Minima\n",
    "        # limit is (n-2) as we are comparing present element to the next element\n",
    "        while ((i < (n - 1)) and\n",
    "                (p[i + 1] <= p[i])):\n",
    "            i += 1\n",
    "         \n",
    "        # Break at the end\n",
    "        if (i == n - 1):\n",
    "            break\n",
    "\n",
    "        buy = i\n",
    "        i += 1\n",
    "         \n",
    "        # Find the local Maxima\n",
    "        # limit is (n-1) as we are comparing to previous element\n",
    "        while ((i < n) and (p[i] >= p[i - 1])):\n",
    "            i += 1\n",
    "             \n",
    "        sell = i - 1\n",
    "         \n",
    "        print(\"Buying day: \",buy,\"\\t\",\n",
    "                \"Selling day: \",sell)"
   ]
  },
  {
   "cell_type": "code",
   "execution_count": 35,
   "metadata": {},
   "outputs": [
    {
     "name": "stdout",
     "output_type": "stream",
     "text": [
      "Follow the below steps to obtain the maximum profit from Company X :\n",
      "{\n",
      "Buying day:  0 \t Selling day:  1\n",
      "Buying day:  2 \t Selling day:  3\n",
      "Buying day:  4 \t Selling day:  5\n",
      "Buying day:  6 \t Selling day:  7\n",
      "None\n",
      "}\n"
     ]
    }
   ],
   "source": [
    "# Printing the procedure to follow for maximum profit\n",
    "all_val=[value_A,value_B,value_C]\n",
    "for i in range(len(Companies)):\n",
    "    # if the company has maximum profit\n",
    "    if Companies[i] == Comp_with_maxProfit:\n",
    "        print(\"Follow the below steps to obtain the maximum profit from \" + Comp_with_maxProfit + \" :\")\n",
    "        print(\"{\")\n",
    "        print(stock_buy_sell(all_val[i], len(all_val[i])))\n",
    "        print(\"}\")"
   ]
  },
  {
   "cell_type": "code",
   "execution_count": 36,
   "metadata": {},
   "outputs": [
    {
     "name": "stdout",
     "output_type": "stream",
     "text": [
      " \n",
      "RELIABILITY TEST\n",
      " \n",
      "Company X is NOT reliable\n",
      "Company Y is reliable\n",
      "Company Z is reliable\n"
     ]
    }
   ],
   "source": [
    "# Checking whether the companies are reliable or not\n",
    "\n",
    "print(\" \")\n",
    "print(\"RELIABILITY TEST\")\n",
    "print(\" \")\n",
    "reliability_lst=[]\n",
    "\n",
    "# reliability test of companies\n",
    "for j in range(len(all_val)):\n",
    "    for i in range(len(all_val[j])-1):\n",
    "        \n",
    "        # Taking 20 pc as the threshold\n",
    "        if (all_val[j][i+1]/all_val[j][i]) >= 1.2:\n",
    "            print(Companies[j] + \" is NOT reliable\")\n",
    "            reliability_lst.append(str(\"NOT Reliable\"))\n",
    "            break\n",
    "        if (all_val[j][i+1]/all_val[j][i]) <= 0.8:\n",
    "            print(Companies[j] + \" is NOT reliable\")\n",
    "            reliability_lst.append(str(\"NOT Reliable\"))\n",
    "            break\n",
    "        else:\n",
    "            reliability_lst.append(str(\"Reliable\"))\n",
    "            break\n",
    "            \n",
    "    if reliability_lst[j]==\"Reliable\":\n",
    "        print(Companies[j] + \" is reliable\")"
   ]
  },
  {
   "cell_type": "code",
   "execution_count": 37,
   "metadata": {},
   "outputs": [],
   "source": [
    "# Creating a Data Frame\n",
    "import pandas as pd\n",
    "\n",
    "    # define a dictionary - 'company_dict'\n",
    "company_dict={\n",
    "    \"Comapanies\": pd.Series(Companies, index=[1,2,3]),\n",
    "    \"Max Profit\": pd.Series(maxProfit_list, index=[1,2,3]),\n",
    "    \"Reliability\": pd.Series(reliability_lst, index=[1,2,3])\n",
    "}"
   ]
  },
  {
   "cell_type": "code",
   "execution_count": 38,
   "metadata": {},
   "outputs": [],
   "source": [
    "DataFrame=pd.DataFrame(company_dict)"
   ]
  },
  {
   "cell_type": "code",
   "execution_count": 39,
   "metadata": {},
   "outputs": [
    {
     "data": {
      "text/html": [
       "<div>\n",
       "<style scoped>\n",
       "    .dataframe tbody tr th:only-of-type {\n",
       "        vertical-align: middle;\n",
       "    }\n",
       "\n",
       "    .dataframe tbody tr th {\n",
       "        vertical-align: top;\n",
       "    }\n",
       "\n",
       "    .dataframe thead th {\n",
       "        text-align: right;\n",
       "    }\n",
       "</style>\n",
       "<table border=\"1\" class=\"dataframe\">\n",
       "  <thead>\n",
       "    <tr style=\"text-align: right;\">\n",
       "      <th></th>\n",
       "      <th>Comapanies</th>\n",
       "      <th>Max Profit</th>\n",
       "      <th>Reliability</th>\n",
       "    </tr>\n",
       "  </thead>\n",
       "  <tbody>\n",
       "    <tr>\n",
       "      <td>1</td>\n",
       "      <td>Company X</td>\n",
       "      <td>14.000000</td>\n",
       "      <td>NOT Reliable</td>\n",
       "    </tr>\n",
       "    <tr>\n",
       "      <td>2</td>\n",
       "      <td>Company Y</td>\n",
       "      <td>9.470000</td>\n",
       "      <td>Reliable</td>\n",
       "    </tr>\n",
       "    <tr>\n",
       "      <td>3</td>\n",
       "      <td>Company Z</td>\n",
       "      <td>10.140411</td>\n",
       "      <td>Reliable</td>\n",
       "    </tr>\n",
       "  </tbody>\n",
       "</table>\n",
       "</div>"
      ],
      "text/plain": [
       "  Comapanies  Max Profit   Reliability\n",
       "1  Company X   14.000000  NOT Reliable\n",
       "2  Company Y    9.470000      Reliable\n",
       "3  Company Z   10.140411      Reliable"
      ]
     },
     "execution_count": 39,
     "metadata": {},
     "output_type": "execute_result"
    }
   ],
   "source": [
    "DataFrame"
   ]
  },
  {
   "cell_type": "code",
   "execution_count": 40,
   "metadata": {},
   "outputs": [
    {
     "data": {
      "image/png": "[encoded data removed]",
      "text/plain": [
       "<Figure size 432x288 with 1 Axes>"
      ]
     },
     "metadata": {
      "needs_background": "light"
     },
     "output_type": "display_data"
    }
   ],
   "source": [
    "# Plotting a Graph \n",
    "\n",
    " # import matplotlib library\n",
    "import matplotlib.pyplot as plt \n",
    "\n",
    " # defining x-coordinates and y-coordinates\n",
    "x1=[1,2,3,4,5,6,7,8]\n",
    "y1=value_A\n",
    "plt.plot(x1, y1, label = company_A) \n",
    "\n",
    "x2=[1,2,3,4,5,6,7,8]\n",
    "y2=value_B\n",
    "plt.plot(x2, y2, label = company_B) \n",
    "\n",
    "x3=[1,2,3,4,5,6,7,8]\n",
    "y3=value_C\n",
    "plt.plot(x3, y3, label = company_C) \n",
    "\n",
    " # naming/labeling the axes\n",
    "plt.xlabel('time (days)') \n",
    "plt.ylabel('Value')\n",
    "\n",
    " # giving a heading to the plot\n",
    "plt.title('Stock Charts')\n",
    "\n",
    "plt.legend()\n",
    "\n",
    "plt.show()"
   ]
  },
  {
   "cell_type": "code",
   "execution_count": 41,
   "metadata": {},
   "outputs": [
    {
     "name": "stdout",
     "output_type": "stream",
     "text": [
      "Thank you for choosing Instant Stocker :)\n"
     ]
    }
   ],
   "source": [
    "print(\"Thank you for choosing Instant Stocker :)\")"
   ]
  },
  {
   "cell_type": "code",
   "execution_count": null,
   "metadata": {},
   "outputs": [],
   "source": []
  }
 ],
 "metadata": {
  "kernelspec": {
   "display_name": "Python 3",
   "language": "python",
   "name": "python3"
  },
  "language_info": {
   "codemirror_mode": {
    "name": "ipython",
    "version": 3
   },
   "file_extension": ".py",
   "mimetype": "text/x-python",
   "name": "python",
   "nbconvert_exporter": "python",
   "pygments_lexer": "ipython3",
   "version": "3.6.8"
  },
  "toc": {
   "base_numbering": 1,
   "nav_menu": {},
   "number_sections": true,
   "sideBar": true,
   "skip_h1_title": false,
   "title_cell": "Table of Contents",
   "title_sidebar": "Contents",
   "toc_cell": false,
   "toc_position": {},
   "toc_section_display": true,
   "toc_window_display": false
  }
 },
 "nbformat": 4,
 "nbformat_minor": 2
}
